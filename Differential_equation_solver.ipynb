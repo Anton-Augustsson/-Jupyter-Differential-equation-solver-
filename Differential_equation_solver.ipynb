{
 "cells": [
  {
   "cell_type": "code",
   "execution_count": 1,
   "metadata": {
    "collapsed": true
   },
   "outputs": [],
   "source": [
    "import numpy as np\n",
    "import matplotlib.pyplot as plt\n",
    "import random\n",
    "%matplotlib inline"
   ]
  },
  {
   "cell_type": "code",
   "execution_count": 2,
   "metadata": {},
   "outputs": [
    {
     "name": "stdout",
     "output_type": "stream",
     "text": [
      "[  0.           0.40816327   0.81632653   1.2244898    1.63265306\n",
      "   2.04081633   2.44897959   2.85714286   3.26530612   3.67346939\n",
      "   4.08163265   4.48979592   4.89795918   5.30612245   5.71428571\n",
      "   6.12244898   6.53061224   6.93877551   7.34693878   7.75510204\n",
      "   8.16326531   8.57142857   8.97959184   9.3877551    9.79591837\n",
      "  10.20408163  10.6122449   11.02040816  11.42857143  11.83673469\n",
      "  12.24489796  12.65306122  13.06122449  13.46938776  13.87755102\n",
      "  14.28571429  14.69387755  15.10204082  15.51020408  15.91836735\n",
      "  16.32653061  16.73469388  17.14285714  17.55102041  17.95918367\n",
      "  18.36734694  18.7755102   19.18367347  19.59183673  20.        ]\n"
     ]
    },
    {
     "data": {
      "image/png": "[encoded data removed]",
      "text/plain": [
       "<matplotlib.figure.Figure at 0x7f478b47a208>"
      ]
     },
     "metadata": {},
     "output_type": "display_data"
    }
   ],
   "source": [
    "# y' + uy = zx² + qx + k\n",
    "# y(0) = w\n",
    "u = -4\n",
    "z = 2\n",
    "q = 5\n",
    "k = 8\n",
    "w = 15\n",
    "\n",
    "def funktion(u, g, a, b, c):\n",
    "    x = np.linspace(0,20)\n",
    "    print(x)\n",
    "    y = g * np.exp(-1 * u * x) + a * x * x + b * x + c\n",
    "    plt.figure()\n",
    "    plt.plot(x,y,label='y(x)')\n",
    "    plt.legend()\n",
    "    \n",
    "def difsolv(u, z, q, k, w):\n",
    "    g = (w-((k-(q-(2*z/u)/u))/u))#str(u * u * u * w - u * u * k - u * q - 2 * z) + '/' + str(u * u * u)#\n",
    "    a = (z / u)\n",
    "    b = (q-(2*z/u)/u)\n",
    "    c = ((k-(q-(2*z/u)/u))/u)\n",
    "    #result = str('y(x) = ' + g + 'e^'+ str(-1 * u) + 'x + ' + a + 'x² + ' + b + 'x + ' + c)\n",
    "    #print(result)\n",
    "    funktion(u, g, a, b, c)\n",
    "\n",
    "        \n",
    "    \n",
    "    \n",
    "difsolv(u,z,q,k,w)"
   ]
  }
 ],
 "metadata": {
  "kernelspec": {
   "display_name": "Python 3",
   "language": "python",
   "name": "python3"
  },
  "language_info": {
   "codemirror_mode": {
    "name": "ipython",
    "version": 3
   },
   "file_extension": ".py",
   "mimetype": "text/x-python",
   "name": "python",
   "nbconvert_exporter": "python",
   "pygments_lexer": "ipython3",
   "version": "3.6.3"
  }
 },
 "nbformat": 4,
 "nbformat_minor": 2
}
