{
 "cells": [
  {
   "cell_type": "code",
   "execution_count": 1,
   "metadata": {},
   "outputs": [],
   "source": [
    "import numpy as np\n",
    "import matplotlib.pyplot as plt\n",
    "import random\n",
    "%matplotlib inline"
   ]
  },
  {
   "cell_type": "code",
   "execution_count": 2,
   "metadata": {},
   "outputs": [
    {
     "name": "stdout",
     "output_type": "stream",
     "text": [
      "y(x) = 150.0e^4x + -0.0x² + 0.0x + -0.0\n"
     ]
    }
   ],
   "source": [
    "# y' + uy = zx² + qx + k\n",
    "# y(0) = w\n",
    "u = -4\n",
    "z = 0\n",
    "q = 0\n",
    "k = 0\n",
    "w = 150\n",
    "\n",
    "def difsolv(u, z, q, k, w):\n",
    "    g = str(w-((k-(q-(2*z/u)/u))/u))#str(u * u * u * w - u * u * k - u * q - 2 * z) + '/' + str(u * u * u)#\n",
    "    a = str(z / u)\n",
    "    b = str(q-(2*z/u)/u)\n",
    "    c = str((k-(q-(2*z/u)/u))/u)\n",
    "    result = str('y(x) = ' + g + 'e^'+ str(-1 * u) + 'x + ' + a + 'x² + ' + b + 'x + ' + c)\n",
    "    print(result)\n",
    "    #return result\n",
    "\n",
    "difsolv(u,z,q,k,w)"
   ]
  },
  {
   "cell_type": "code",
   "execution_count": 3,
   "metadata": {},
   "outputs": [
    {
     "data": {
      "text/plain": [
       "<matplotlib.legend.Legend at 0x7f4603a447b8>"
      ]
     },
     "execution_count": 3,
     "metadata": {},
     "output_type": "execute_result"
    },
    {
     "data": {
      "image/png": "[encoded data removed]",
      "text/plain": [
       "<matplotlib.figure.Figure at 0x7f4603a4c668>"
      ]
     },
     "metadata": {},
     "output_type": "display_data"
    }
   ],
   "source": [
    "x = np.linspace(0,5,100)\n",
    "y = np.exp(-x)*np.sin(x)\n",
    "plt.figure()\n",
    "plt.plot(x,y,label='hello mum')\n",
    "plt.legend()"
   ]
  }
 ],
 "metadata": {
  "kernelspec": {
   "display_name": "Python 3",
   "language": "python",
   "name": "python3"
  },
  "language_info": {
   "codemirror_mode": {
    "name": "ipython",
    "version": 3
   },
   "file_extension": ".py",
   "mimetype": "text/x-python",
   "name": "python",
   "nbconvert_exporter": "python",
   "pygments_lexer": "ipython3",
   "version": "3.6.3"
  }
 },
 "nbformat": 4,
 "nbformat_minor": 2
}
