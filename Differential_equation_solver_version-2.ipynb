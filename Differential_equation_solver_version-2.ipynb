{
 "cells": [
  {
   "cell_type": "code",
   "execution_count": 1,
   "metadata": {
    "collapsed": true
   },
   "outputs": [],
   "source": [
    "import numpy as np\n",
    "import matplotlib.pyplot as plt\n",
    "import random\n",
    "%matplotlib inline"
   ]
  },
  {
   "cell_type": "code",
   "execution_count": 1,
   "metadata": {
    "scrolled": false
   },
   "outputs": [
    {
     "ename": "SyntaxError",
     "evalue": "invalid syntax (<ipython-input-1-87b65970b6c6>, line 29)",
     "output_type": "error",
     "traceback": [
      "\u001b[0;36m  File \u001b[0;32m\"<ipython-input-1-87b65970b6c6>\"\u001b[0;36m, line \u001b[0;32m29\u001b[0m\n\u001b[0;31m    a =\u001b[0m\n\u001b[0m       ^\u001b[0m\n\u001b[0;31mSyntaxError\u001b[0m\u001b[0;31m:\u001b[0m invalid syntax\n"
     ]
    }
   ],
   "source": [
    "#difsolv1(u,z,q,k,w)\n",
    "# 1(y' + ey = hx² + gx + f)\n",
    "# 3(y' + ey = fe^gx) \n",
    "# y(0) = i\n",
    "difirential_numer = 3\n",
    "e = -4\n",
    "f = 2\n",
    "g = 2\n",
    "h = 4\n",
    "i = 15\n",
    "x = np.linspace(0,20)\n",
    "\n",
    "def plot(x, y, result):\n",
    "    plt.figure()\n",
    "    plt.plot(x,y,label=result)\n",
    "    plt.legend()\n",
    "    \n",
    "\n",
    "def difsolv1(e, f, g, h, i, x):\n",
    "    a = (f/e)\n",
    "    b = (g-(2*f/e)/e)\n",
    "    c = ((h-(g-(2*f/e)/e))/e)\n",
    "    d = (i-c)\n",
    "    y = d * np.exp(-1*e *x) + a * x * x + b * x + c\n",
    "    result = str('y(x) = ' + str(d) + 'e^' + str(-1 * e) + 'x + ' + str(a) + 'x² + ' + str(b) + 'x + ' + str(c))\n",
    "    plot(x, y, result)\n",
    "\n",
    "def difsolv3(e, f, g, i, x):\n",
    "    a = (f/(g-e))\n",
    "    d = (i-a)\n",
    "    y = (d * np.exp(-1*e*x) + a * np.exp(g*x))\n",
    "    result = str('y(x) = ' + str(d) + 'e^' + str(-1 * e) + 'x + ' + str(a) + 'e^' + str(g) + 'x')\n",
    "    plot(x, y, result)\n",
    "\n",
    "    \n",
    "if(difirential_numer == 1):\n",
    "    difsolv1(e,f,g,h,i,x)\n",
    "\n",
    "elif(difirential_numer == 3):\n",
    "    difsolv3(e,f,g,i,x)\n",
    "    \n",
    "else:\n",
    "    print('you nide to give a velid number for difirential_numer')\n"
   ]
  }
 ],
 "metadata": {
  "kernelspec": {
   "display_name": "Python 3",
   "language": "python",
   "name": "python3"
  },
  "language_info": {
   "codemirror_mode": {
    "name": "ipython",
    "version": 3
   },
   "file_extension": ".py",
   "mimetype": "text/x-python",
   "name": "python",
   "nbconvert_exporter": "python",
   "pygments_lexer": "ipython3",
   "version": "3.6.3"
  }
 },
 "nbformat": 4,
 "nbformat_minor": 2
}
